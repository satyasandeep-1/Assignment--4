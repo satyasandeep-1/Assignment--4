{
  "nbformat": 4,
  "nbformat_minor": 0,
  "metadata": {
    "colab": {
      "provenance": []
    },
    "kernelspec": {
      "name": "python3",
      "display_name": "Python 3"
    },
    "language_info": {
      "name": "python"
    }
  },
  "cells": [
    {
      "cell_type": "code",
      "execution_count": null,
      "metadata": {
        "colab": {
          "base_uri": "https://localhost:8080/"
        },
        "id": "wB6f1a6KrH2c",
        "outputId": "f68e765a-3fdf-42bc-e9ce-2c4562d8f21c"
      },
      "outputs": [
        {
          "output_type": "stream",
          "name": "stdout",
          "text": [
            "Drive already mounted at /drive; to attempt to forcibly remount, call drive.mount(\"/drive\", force_remount=True).\n",
            "         Duration       Pulse    Maxpulse     Calories\n",
            "count  169.000000  169.000000  169.000000   164.000000\n",
            "mean    63.846154  107.461538  134.047337   375.790244\n",
            "std     42.299949   14.510259   16.450434   266.379919\n",
            "min     15.000000   80.000000  100.000000    50.300000\n",
            "25%     45.000000  100.000000  124.000000   250.925000\n",
            "50%     60.000000  105.000000  131.000000   318.600000\n",
            "75%     60.000000  111.000000  141.000000   387.600000\n",
            "max    300.000000  159.000000  184.000000  1860.400000\n"
          ]
        }
      ],
      "source": [
        "import pandas as pd\n",
        "from google.colab import drive\n",
        "\n",
        "#Loading the data into the drive \n",
        "drive.mount('/drive')\n",
        "dataSet = pd.read_csv('/drive/MyDrive/data.csv')\n",
        "\n",
        "# Showing basic statistical description of the data using the description() function\n",
        "print(dataSet.describe())\n"
      ]
    },
    {
      "cell_type": "code",
      "source": [
        "# Checking if the data has null values or not \n",
        "dataSet.isnull().any()"
      ],
      "metadata": {
        "colab": {
          "base_uri": "https://localhost:8080/"
        },
        "id": "DpZ9V6AUsiLq",
        "outputId": "9cc69812-3bb5-4940-db7a-a18288ab4e09"
      },
      "execution_count": null,
      "outputs": [
        {
          "output_type": "execute_result",
          "data": {
            "text/plain": [
              "Duration    False\n",
              "Pulse       False\n",
              "Calories    False\n",
              "dtype: bool"
            ]
          },
          "metadata": {},
          "execution_count": 23
        }
      ]
    },
    {
      "cell_type": "code",
      "source": [
        "# 3.a)Replacing the null values with the mean function \n",
        "dataSet.fillna(dataSet.mean(), inplace=True)\n",
        "dataSet.isnull().any()"
      ],
      "metadata": {
        "colab": {
          "base_uri": "https://localhost:8080/"
        },
        "id": "oVQR47pzsna7",
        "outputId": "aeabcd80-14b2-4c16-8ff6-c10eaed72dfb"
      },
      "execution_count": null,
      "outputs": [
        {
          "output_type": "execute_result",
          "data": {
            "text/plain": [
              "Duration    False\n",
              "Pulse       False\n",
              "Maxpulse    False\n",
              "Calories    False\n",
              "dtype: bool"
            ]
          },
          "metadata": {},
          "execution_count": 3
        }
      ]
    },
    {
      "cell_type": "code",
      "source": [
        "# Aggregating the data using min, max, count, and mean from data set \n",
        "agg_dataSet = dataSet[['Duration', 'Calories']].agg(['min', 'max', 'count', 'mean'])\n",
        "print(agg_dataSet)"
      ],
      "metadata": {
        "colab": {
          "base_uri": "https://localhost:8080/"
        },
        "id": "38KFDk0DswlF",
        "outputId": "d81c8109-00a4-4e88-d960-30e824163d95"
      },
      "execution_count": null,
      "outputs": [
        {
          "output_type": "stream",
          "name": "stdout",
          "text": [
            "         Duration     Calories\n",
            "min     15.000000    50.300000\n",
            "max    300.000000  1860.400000\n",
            "count  169.000000   169.000000\n",
            "mean    63.846154   375.790244\n"
          ]
        }
      ]
    },
    {
      "cell_type": "code",
      "source": [
        "# Filtering the dataframe to select rows with calories between 500 and 1000\n",
        "\n",
        "filtered_dataSet = dataSet[(dataSet['Calories'] >= 500) & (dataSet['Calories'] <= 1000)]\n",
        "print(filtered_dataSet)"
      ],
      "metadata": {
        "colab": {
          "base_uri": "https://localhost:8080/"
        },
        "id": "1AZAU7HSs8o_",
        "outputId": "58f7afce-7a0e-4cbb-bc41-e5cb705e2a7a"
      },
      "execution_count": null,
      "outputs": [
        {
          "output_type": "stream",
          "name": "stdout",
          "text": [
            "     Duration  Pulse  Calories\n",
            "51         80    123       643\n",
            "62        160    109       853\n",
            "65        180     90       800\n",
            "66        150    105       873\n",
            "67        150    107       816\n",
            "72         90    100       700\n",
            "73        150     97       953\n",
            "75         90     98       563\n",
            "78        120    100       500\n",
            "83        120    100       500\n",
            "87        120    100      1000\n",
            "90        180    101       600\n",
            "99         90     93       604\n",
            "101        90     90       500\n",
            "102        90     90       500\n",
            "103        90     90       500\n",
            "106       180     90       800\n",
            "108        90     90       500\n"
          ]
        }
      ]
    },
    {
      "cell_type": "code",
      "source": [
        "# Filtering the dataframe to select rows with calories > 500 and pulse < 100\n",
        "filtered_dataSet2 = dataSet[(dataSet['Calories'] > 500) & (dataSet['Pulse'] < 100)]\n",
        "print(filtered_dataSet2)"
      ],
      "metadata": {
        "colab": {
          "base_uri": "https://localhost:8080/"
        },
        "id": "q5hm01Qqs-0o",
        "outputId": "264366d8-f6f0-422d-83fb-29e13834402e"
      },
      "execution_count": null,
      "outputs": [
        {
          "output_type": "stream",
          "name": "stdout",
          "text": [
            "     Duration  Pulse  Calories\n",
            "65        180     90       800\n",
            "70        150     97      1115\n",
            "73        150     97       953\n",
            "75         90     98       563\n",
            "99         90     93       604\n",
            "106       180     90       800\n"
          ]
        }
      ]
    },
    {
      "cell_type": "code",
      "source": [
        "# Creating a new df_modified dataframe without Maxpulse column\n",
        "dataSet_modified = dataSet.drop(columns=['Maxpulse'])\n",
        "\n",
        "# Printing  the created new dataframe \n",
        "print(dataSet_modified)"
      ],
      "metadata": {
        "colab": {
          "base_uri": "https://localhost:8080/"
        },
        "id": "SaJV9ZSStZOb",
        "outputId": "b4405bee-d4bf-406f-9e73-d16371e552f5"
      },
      "execution_count": null,
      "outputs": [
        {
          "output_type": "stream",
          "name": "stdout",
          "text": [
            "     Duration  Pulse  Calories\n",
            "0          60    110     409.1\n",
            "1          60    117     479.0\n",
            "2          60    103     340.0\n",
            "3          45    109     282.4\n",
            "4          45    117     406.0\n",
            "..        ...    ...       ...\n",
            "164        60    105     290.8\n",
            "165        60    110     300.0\n",
            "166        60    115     310.2\n",
            "167        75    120     320.4\n",
            "168        75    125     330.4\n",
            "\n",
            "[169 rows x 3 columns]\n"
          ]
        }
      ]
    },
    {
      "cell_type": "code",
      "source": [
        "# Deleting Maxpulse column from the main dataframe\n",
        "dataSet.drop(columns=['Maxpulse'], inplace=True)\n",
        "print(dataSet)"
      ],
      "metadata": {
        "colab": {
          "base_uri": "https://localhost:8080/"
        },
        "id": "HAd2MlkttdhL",
        "outputId": "45a62cea-3bae-4481-84e8-4d2eb95c7528"
      },
      "execution_count": null,
      "outputs": [
        {
          "output_type": "stream",
          "name": "stdout",
          "text": [
            "     Duration  Pulse  Calories\n",
            "0          60    110     409.1\n",
            "1          60    117     479.0\n",
            "2          60    103     340.0\n",
            "3          45    109     282.4\n",
            "4          45    117     406.0\n",
            "..        ...    ...       ...\n",
            "164        60    105     290.8\n",
            "165        60    110     300.0\n",
            "166        60    115     310.2\n",
            "167        75    120     320.4\n",
            "168        75    125     330.4\n",
            "\n",
            "[169 rows x 3 columns]\n"
          ]
        }
      ]
    },
    {
      "cell_type": "code",
      "source": [
        "# Converting datatype of Calories column to int\n",
        "dataSet['Calories'] = dataSet['Calories'].astype(int)\n",
        "dataSet.dtypes"
      ],
      "metadata": {
        "colab": {
          "base_uri": "https://localhost:8080/"
        },
        "id": "hEUDe16ttjv1",
        "outputId": "8fdb0cb4-b317-4bfd-a97f-0b769eded098"
      },
      "execution_count": null,
      "outputs": [
        {
          "output_type": "execute_result",
          "data": {
            "text/plain": [
              "Duration    int64\n",
              "Pulse       int64\n",
              "Calories    int64\n",
              "dtype: object"
            ]
          },
          "metadata": {},
          "execution_count": 9
        }
      ]
    },
    {
      "cell_type": "code",
      "source": [
        "# Creating scatter plot of Duration and Calories columns\n",
        "dataSet.plot.scatter(x='Duration', y='Calories')"
      ],
      "metadata": {
        "colab": {
          "base_uri": "https://localhost:8080/",
          "height": 501
        },
        "id": "bCbg-6DNttuG",
        "outputId": "3eab6723-ac66-4dbc-855f-4d598fd27f74"
      },
      "execution_count": 91,
      "outputs": [
        {
          "output_type": "stream",
          "name": "stderr",
          "text": [
            "/usr/local/lib/python3.9/dist-packages/pandas/plotting/_matplotlib/core.py:1114: UserWarning: No data for colormapping provided via 'c'. Parameters 'cmap' will be ignored\n",
            "  scatter = ax.scatter(\n"
          ]
        },
        {
          "output_type": "execute_result",
          "data": {
            "text/plain": [
              "<Axes: xlabel='Duration', ylabel='Calories'>"
            ]
          },
          "metadata": {},
          "execution_count": 91
        },
        {
          "output_type": "display_data",
          "data": {
            "text/plain": [
              "<Figure size 640x480 with 1 Axes>"
            ],
            "image/png": "[encoded data removed]"
          },
          "metadata": {}
        }
      ]
    },
    {
      "cell_type": "code",
      "source": [
        "#Titanic DataSet\n",
        "import pandas as pd\n",
        "import seaborn as sns\n",
        "import matplotlib.pyplot as plt\n",
        "\n",
        "# Loading the dataset into the variable \n",
        "titanic = pd.read_csv('/drive/MyDrive/train.csv')\n",
        "\n",
        "#Converting Sex type\n",
        "titanic['Sex'] = titanic['Sex'].replace([\"female\", \"male\"], [0, 1])\n",
        "\n",
        "# Finding the correlation between 'survived' and 'sex'\n",
        "corr = titanic['Survived'].corr(titanic['Sex'])\n",
        "\n",
        "# Printing the correlation coefficient\n",
        "print('Correlation between \"survived\" and \"sex\":', corr)\n",
        "\n",
        "#Count plot showing the survival count by sex\n",
        "sns.countplot(x='Survived', hue='Sex', data=titanic)\n",
        "plt.title('Survival count by sex')\n",
        "plt.show()\n",
        "\n",
        "# Point plot showing the survival rate by sex\n",
        "sns.pointplot(x='Sex', y='Survived', data=titanic)\n",
        "plt.title('Survival rate by sex')"
      ],
      "metadata": {
        "colab": {
          "base_uri": "https://localhost:8080/",
          "height": 963
        },
        "id": "O1Wh6FeLuIZp",
        "outputId": "20878dc7-6f49-4127-da37-f08b98f9ef0c"
      },
      "execution_count": null,
      "outputs": [
        {
          "output_type": "stream",
          "name": "stdout",
          "text": [
            "Correlation between \"survived\" and \"sex\": -0.5433513806577555\n"
          ]
        },
        {
          "output_type": "display_data",
          "data": {
            "text/plain": [
              "<Figure size 640x480 with 1 Axes>"
            ],
            "image/png": "[encoded data removed]"
          },
          "metadata": {}
        },
        {
          "output_type": "execute_result",
          "data": {
            "text/plain": [
              "Text(0.5, 1.0, 'Survival rate by sex')"
            ]
          },
          "metadata": {},
          "execution_count": 90
        },
        {
          "output_type": "display_data",
          "data": {
            "text/plain": [
              "<Figure size 640x480 with 1 Axes>"
            ],
            "image/png": "[encoded data removed]"
          },
          "metadata": {}
        }
      ]
    },
    {
      "cell_type": "code",
      "source": [
        "3)#vizualization 1 \n",
        "corr_data = titanic.corr()\n",
        "sns.heatmap(corr_data ,cmap='Blues')"
      ],
      "metadata": {
        "colab": {
          "base_uri": "https://localhost:8080/",
          "height": 523
        },
        "id": "oi1mQ9qI9VIx",
        "outputId": "fe30769e-ed56-44da-91df-a8c0c8a4c6bf"
      },
      "execution_count": null,
      "outputs": [
        {
          "output_type": "execute_result",
          "data": {
            "text/plain": [
              "<Axes: >"
            ]
          },
          "metadata": {},
          "execution_count": 55
        },
        {
          "output_type": "display_data",
          "data": {
            "text/plain": [
              "<Figure size 640x480 with 2 Axes>"
            ],
            "image/png": "[encoded data removed]"
          },
          "metadata": {}
        }
      ]
    },
    {
      "cell_type": "code",
      "source": [
        "#Visualization 2 \n",
        "titanic.corr().style.background_gradient(cmap=\"Purples\")"
      ],
      "metadata": {
        "colab": {
          "base_uri": "https://localhost:8080/",
          "height": 300
        },
        "id": "otAr3OEs9j6o",
        "outputId": "33dfcad7-df1c-4245-f6fb-90d67917b290"
      },
      "execution_count": null,
      "outputs": [
        {
          "output_type": "execute_result",
          "data": {
            "text/plain": [
              "<pandas.io.formats.style.Styler at 0x7fecfb32e790>"
            ],
            "text/html": [
              "<style type=\"text/css\">\n",
              "#T_495d5_row0_col0, #T_495d5_row1_col1, #T_495d5_row2_col2, #T_495d5_row3_col3, #T_495d5_row4_col4, #T_495d5_row5_col5, #T_495d5_row6_col6, #T_495d5_row7_col7 {\n",
              "  background-color: #3f007d;\n",
              "  color: #f1f1f1;\n",
              "}\n",
              "#T_495d5_row0_col1 {\n",
              "  background-color: #c2c3df;\n",
              "  color: #000000;\n",
              "}\n",
              "#T_495d5_row0_col2, #T_495d5_row5_col1 {\n",
              "  background-color: #c7c8e1;\n",
              "  color: #000000;\n",
              "}\n",
              "#T_495d5_row0_col3 {\n",
              "  background-color: #bbbbdb;\n",
              "  color: #000000;\n",
              "}\n",
              "#T_495d5_row0_col4 {\n",
              "  background-color: #cfd0e6;\n",
              "  color: #000000;\n",
              "}\n",
              "#T_495d5_row0_col5, #T_495d5_row6_col3 {\n",
              "  background-color: #e4e3f0;\n",
              "  color: #000000;\n",
              "}\n",
              "#T_495d5_row0_col6 {\n",
              "  background-color: #e3e2ef;\n",
              "  color: #000000;\n",
              "}\n",
              "#T_495d5_row0_col7 {\n",
              "  background-color: #bfc0de;\n",
              "  color: #000000;\n",
              "}\n",
              "#T_495d5_row1_col0 {\n",
              "  background-color: #f7f6fa;\n",
              "  color: #000000;\n",
              "}\n",
              "#T_495d5_row1_col2 {\n",
              "  background-color: #eeecf4;\n",
              "  color: #000000;\n",
              "}\n",
              "#T_495d5_row1_col3, #T_495d5_row2_col4, #T_495d5_row2_col7, #T_495d5_row3_col1, #T_495d5_row3_col6, #T_495d5_row4_col5, #T_495d5_row5_col0, #T_495d5_row7_col2 {\n",
              "  background-color: #fcfbfd;\n",
              "  color: #000000;\n",
              "}\n",
              "#T_495d5_row1_col4, #T_495d5_row2_col6 {\n",
              "  background-color: #e0e0ee;\n",
              "  color: #000000;\n",
              "}\n",
              "#T_495d5_row1_col5 {\n",
              "  background-color: #e1e0ee;\n",
              "  color: #000000;\n",
              "}\n",
              "#T_495d5_row1_col6 {\n",
              "  background-color: #d7d7e9;\n",
              "  color: #000000;\n",
              "}\n",
              "#T_495d5_row1_col7 {\n",
              "  background-color: #9995c6;\n",
              "  color: #f1f1f1;\n",
              "}\n",
              "#T_495d5_row2_col0 {\n",
              "  background-color: #faf9fc;\n",
              "  color: #000000;\n",
              "}\n",
              "#T_495d5_row2_col1, #T_495d5_row6_col4 {\n",
              "  background-color: #eeecf5;\n",
              "  color: #000000;\n",
              "}\n",
              "#T_495d5_row2_col3, #T_495d5_row3_col2 {\n",
              "  background-color: #adabd2;\n",
              "  color: #000000;\n",
              "}\n",
              "#T_495d5_row2_col5 {\n",
              "  background-color: #cecfe5;\n",
              "  color: #000000;\n",
              "}\n",
              "#T_495d5_row3_col0 {\n",
              "  background-color: #f2f0f7;\n",
              "  color: #000000;\n",
              "}\n",
              "#T_495d5_row3_col4, #T_495d5_row7_col4 {\n",
              "  background-color: #c5c6e1;\n",
              "  color: #000000;\n",
              "}\n",
              "#T_495d5_row3_col5 {\n",
              "  background-color: #eceaf3;\n",
              "  color: #000000;\n",
              "}\n",
              "#T_495d5_row3_col7 {\n",
              "  background-color: #dcdcec;\n",
              "  color: #000000;\n",
              "}\n",
              "#T_495d5_row4_col0 {\n",
              "  background-color: #f3f1f7;\n",
              "  color: #000000;\n",
              "}\n",
              "#T_495d5_row4_col1 {\n",
              "  background-color: #cecee5;\n",
              "  color: #000000;\n",
              "}\n",
              "#T_495d5_row4_col2 {\n",
              "  background-color: #f0eef6;\n",
              "  color: #000000;\n",
              "}\n",
              "#T_495d5_row4_col3 {\n",
              "  background-color: #b3b3d6;\n",
              "  color: #000000;\n",
              "}\n",
              "#T_495d5_row4_col6, #T_495d5_row5_col4 {\n",
              "  background-color: #f8f6fa;\n",
              "  color: #000000;\n",
              "}\n",
              "#T_495d5_row4_col7 {\n",
              "  background-color: #b2b2d5;\n",
              "  color: #000000;\n",
              "}\n",
              "#T_495d5_row5_col2 {\n",
              "  background-color: #b4b4d7;\n",
              "  color: #000000;\n",
              "}\n",
              "#T_495d5_row5_col3 {\n",
              "  background-color: #d3d3e8;\n",
              "  color: #000000;\n",
              "}\n",
              "#T_495d5_row5_col6 {\n",
              "  background-color: #9793c5;\n",
              "  color: #f1f1f1;\n",
              "}\n",
              "#T_495d5_row5_col7 {\n",
              "  background-color: #a8a6cf;\n",
              "  color: #f1f1f1;\n",
              "}\n",
              "#T_495d5_row6_col0 {\n",
              "  background-color: #f7f5fa;\n",
              "  color: #000000;\n",
              "}\n",
              "#T_495d5_row6_col1 {\n",
              "  background-color: #b5b5d7;\n",
              "  color: #000000;\n",
              "}\n",
              "#T_495d5_row6_col2 {\n",
              "  background-color: #bebfdd;\n",
              "  color: #000000;\n",
              "}\n",
              "#T_495d5_row6_col5 {\n",
              "  background-color: #918ec2;\n",
              "  color: #f1f1f1;\n",
              "}\n",
              "#T_495d5_row6_col7 {\n",
              "  background-color: #9f9cc9;\n",
              "  color: #f1f1f1;\n",
              "}\n",
              "#T_495d5_row7_col0 {\n",
              "  background-color: #f5f4f9;\n",
              "  color: #000000;\n",
              "}\n",
              "#T_495d5_row7_col1 {\n",
              "  background-color: #9a96c6;\n",
              "  color: #f1f1f1;\n",
              "}\n",
              "#T_495d5_row7_col3 {\n",
              "  background-color: #ddddec;\n",
              "  color: #000000;\n",
              "}\n",
              "#T_495d5_row7_col5 {\n",
              "  background-color: #c0c1de;\n",
              "  color: #000000;\n",
              "}\n",
              "#T_495d5_row7_col6 {\n",
              "  background-color: #bebedd;\n",
              "  color: #000000;\n",
              "}\n",
              "</style>\n",
              "<table id=\"T_495d5\" class=\"dataframe\">\n",
              "  <thead>\n",
              "    <tr>\n",
              "      <th class=\"blank level0\" >&nbsp;</th>\n",
              "      <th id=\"T_495d5_level0_col0\" class=\"col_heading level0 col0\" >PassengerId</th>\n",
              "      <th id=\"T_495d5_level0_col1\" class=\"col_heading level0 col1\" >Survived</th>\n",
              "      <th id=\"T_495d5_level0_col2\" class=\"col_heading level0 col2\" >Pclass</th>\n",
              "      <th id=\"T_495d5_level0_col3\" class=\"col_heading level0 col3\" >Sex</th>\n",
              "      <th id=\"T_495d5_level0_col4\" class=\"col_heading level0 col4\" >Age</th>\n",
              "      <th id=\"T_495d5_level0_col5\" class=\"col_heading level0 col5\" >SibSp</th>\n",
              "      <th id=\"T_495d5_level0_col6\" class=\"col_heading level0 col6\" >Parch</th>\n",
              "      <th id=\"T_495d5_level0_col7\" class=\"col_heading level0 col7\" >Fare</th>\n",
              "    </tr>\n",
              "  </thead>\n",
              "  <tbody>\n",
              "    <tr>\n",
              "      <th id=\"T_495d5_level0_row0\" class=\"row_heading level0 row0\" >PassengerId</th>\n",
              "      <td id=\"T_495d5_row0_col0\" class=\"data row0 col0\" >1.000000</td>\n",
              "      <td id=\"T_495d5_row0_col1\" class=\"data row0 col1\" >-0.005007</td>\n",
              "      <td id=\"T_495d5_row0_col2\" class=\"data row0 col2\" >-0.035144</td>\n",
              "      <td id=\"T_495d5_row0_col3\" class=\"data row0 col3\" >0.042939</td>\n",
              "      <td id=\"T_495d5_row0_col4\" class=\"data row0 col4\" >0.036847</td>\n",
              "      <td id=\"T_495d5_row0_col5\" class=\"data row0 col5\" >-0.057527</td>\n",
              "      <td id=\"T_495d5_row0_col6\" class=\"data row0 col6\" >-0.001652</td>\n",
              "      <td id=\"T_495d5_row0_col7\" class=\"data row0 col7\" >0.012658</td>\n",
              "    </tr>\n",
              "    <tr>\n",
              "      <th id=\"T_495d5_level0_row1\" class=\"row_heading level0 row1\" >Survived</th>\n",
              "      <td id=\"T_495d5_row1_col0\" class=\"data row1 col0\" >-0.005007</td>\n",
              "      <td id=\"T_495d5_row1_col1\" class=\"data row1 col1\" >1.000000</td>\n",
              "      <td id=\"T_495d5_row1_col2\" class=\"data row1 col2\" >-0.338481</td>\n",
              "      <td id=\"T_495d5_row1_col3\" class=\"data row1 col3\" >-0.543351</td>\n",
              "      <td id=\"T_495d5_row1_col4\" class=\"data row1 col4\" >-0.077221</td>\n",
              "      <td id=\"T_495d5_row1_col5\" class=\"data row1 col5\" >-0.035322</td>\n",
              "      <td id=\"T_495d5_row1_col6\" class=\"data row1 col6\" >0.081629</td>\n",
              "      <td id=\"T_495d5_row1_col7\" class=\"data row1 col7\" >0.257307</td>\n",
              "    </tr>\n",
              "    <tr>\n",
              "      <th id=\"T_495d5_level0_row2\" class=\"row_heading level0 row2\" >Pclass</th>\n",
              "      <td id=\"T_495d5_row2_col0\" class=\"data row2 col0\" >-0.035144</td>\n",
              "      <td id=\"T_495d5_row2_col1\" class=\"data row2 col1\" >-0.338481</td>\n",
              "      <td id=\"T_495d5_row2_col2\" class=\"data row2 col2\" >1.000000</td>\n",
              "      <td id=\"T_495d5_row2_col3\" class=\"data row2 col3\" >0.131900</td>\n",
              "      <td id=\"T_495d5_row2_col4\" class=\"data row2 col4\" >-0.369226</td>\n",
              "      <td id=\"T_495d5_row2_col5\" class=\"data row2 col5\" >0.083081</td>\n",
              "      <td id=\"T_495d5_row2_col6\" class=\"data row2 col6\" >0.018443</td>\n",
              "      <td id=\"T_495d5_row2_col7\" class=\"data row2 col7\" >-0.549500</td>\n",
              "    </tr>\n",
              "    <tr>\n",
              "      <th id=\"T_495d5_level0_row3\" class=\"row_heading level0 row3\" >Sex</th>\n",
              "      <td id=\"T_495d5_row3_col0\" class=\"data row3 col0\" >0.042939</td>\n",
              "      <td id=\"T_495d5_row3_col1\" class=\"data row3 col1\" >-0.543351</td>\n",
              "      <td id=\"T_495d5_row3_col2\" class=\"data row3 col2\" >0.131900</td>\n",
              "      <td id=\"T_495d5_row3_col3\" class=\"data row3 col3\" >1.000000</td>\n",
              "      <td id=\"T_495d5_row3_col4\" class=\"data row3 col4\" >0.093254</td>\n",
              "      <td id=\"T_495d5_row3_col5\" class=\"data row3 col5\" >-0.114631</td>\n",
              "      <td id=\"T_495d5_row3_col6\" class=\"data row3 col6\" >-0.245489</td>\n",
              "      <td id=\"T_495d5_row3_col7\" class=\"data row3 col7\" >-0.182333</td>\n",
              "    </tr>\n",
              "    <tr>\n",
              "      <th id=\"T_495d5_level0_row4\" class=\"row_heading level0 row4\" >Age</th>\n",
              "      <td id=\"T_495d5_row4_col0\" class=\"data row4 col0\" >0.036847</td>\n",
              "      <td id=\"T_495d5_row4_col1\" class=\"data row4 col1\" >-0.077221</td>\n",
              "      <td id=\"T_495d5_row4_col2\" class=\"data row4 col2\" >-0.369226</td>\n",
              "      <td id=\"T_495d5_row4_col3\" class=\"data row4 col3\" >0.093254</td>\n",
              "      <td id=\"T_495d5_row4_col4\" class=\"data row4 col4\" >1.000000</td>\n",
              "      <td id=\"T_495d5_row4_col5\" class=\"data row4 col5\" >-0.308247</td>\n",
              "      <td id=\"T_495d5_row4_col6\" class=\"data row4 col6\" >-0.189119</td>\n",
              "      <td id=\"T_495d5_row4_col7\" class=\"data row4 col7\" >0.096067</td>\n",
              "    </tr>\n",
              "    <tr>\n",
              "      <th id=\"T_495d5_level0_row5\" class=\"row_heading level0 row5\" >SibSp</th>\n",
              "      <td id=\"T_495d5_row5_col0\" class=\"data row5 col0\" >-0.057527</td>\n",
              "      <td id=\"T_495d5_row5_col1\" class=\"data row5 col1\" >-0.035322</td>\n",
              "      <td id=\"T_495d5_row5_col2\" class=\"data row5 col2\" >0.083081</td>\n",
              "      <td id=\"T_495d5_row5_col3\" class=\"data row5 col3\" >-0.114631</td>\n",
              "      <td id=\"T_495d5_row5_col4\" class=\"data row5 col4\" >-0.308247</td>\n",
              "      <td id=\"T_495d5_row5_col5\" class=\"data row5 col5\" >1.000000</td>\n",
              "      <td id=\"T_495d5_row5_col6\" class=\"data row5 col6\" >0.414838</td>\n",
              "      <td id=\"T_495d5_row5_col7\" class=\"data row5 col7\" >0.159651</td>\n",
              "    </tr>\n",
              "    <tr>\n",
              "      <th id=\"T_495d5_level0_row6\" class=\"row_heading level0 row6\" >Parch</th>\n",
              "      <td id=\"T_495d5_row6_col0\" class=\"data row6 col0\" >-0.001652</td>\n",
              "      <td id=\"T_495d5_row6_col1\" class=\"data row6 col1\" >0.081629</td>\n",
              "      <td id=\"T_495d5_row6_col2\" class=\"data row6 col2\" >0.018443</td>\n",
              "      <td id=\"T_495d5_row6_col3\" class=\"data row6 col3\" >-0.245489</td>\n",
              "      <td id=\"T_495d5_row6_col4\" class=\"data row6 col4\" >-0.189119</td>\n",
              "      <td id=\"T_495d5_row6_col5\" class=\"data row6 col5\" >0.414838</td>\n",
              "      <td id=\"T_495d5_row6_col6\" class=\"data row6 col6\" >1.000000</td>\n",
              "      <td id=\"T_495d5_row6_col7\" class=\"data row6 col7\" >0.216225</td>\n",
              "    </tr>\n",
              "    <tr>\n",
              "      <th id=\"T_495d5_level0_row7\" class=\"row_heading level0 row7\" >Fare</th>\n",
              "      <td id=\"T_495d5_row7_col0\" class=\"data row7 col0\" >0.012658</td>\n",
              "      <td id=\"T_495d5_row7_col1\" class=\"data row7 col1\" >0.257307</td>\n",
              "      <td id=\"T_495d5_row7_col2\" class=\"data row7 col2\" >-0.549500</td>\n",
              "      <td id=\"T_495d5_row7_col3\" class=\"data row7 col3\" >-0.182333</td>\n",
              "      <td id=\"T_495d5_row7_col4\" class=\"data row7 col4\" >0.096067</td>\n",
              "      <td id=\"T_495d5_row7_col5\" class=\"data row7 col5\" >0.159651</td>\n",
              "      <td id=\"T_495d5_row7_col6\" class=\"data row7 col6\" >0.216225</td>\n",
              "      <td id=\"T_495d5_row7_col7\" class=\"data row7 col7\" >1.000000</td>\n",
              "    </tr>\n",
              "  </tbody>\n",
              "</table>\n"
            ]
          },
          "metadata": {},
          "execution_count": 89
        }
      ]
    },
    {
      "cell_type": "code",
      "source": [
        "# Implementing the Naive's Bayes\n",
        "import pandas as pd\n",
        "from sklearn.naive_bayes import GaussianNB\n",
        "from sklearn.model_selection import train_test_split\n",
        "from sklearn.metrics import accuracy_score\n",
        "\n",
        "# Load Titanic dataset\n",
        "titanic = pd.read_csv('/drive/MyDrive/train.csv')\n",
        "\n",
        "# Prepare data for the values of 'sex' 'age'\n",
        "X = titanic[['Sex', 'Age']]\n",
        "X['Sex'] = X['Sex'].map({'male': 0, 'female': 1})  # Convert 'sex' to binary\n",
        "X = X.fillna(X.mean())  # Replace missing values with mean\n",
        "y = titanic['Survived']\n",
        "\n",
        "# Split data into training and testing sets\n",
        "X_train, X_test, y_train, y_test = train_test_split(X, y, test_size=0.3, random_state=27)\n",
        "\n",
        "# Train Naive Bayes classifier\n",
        "gnb = GaussianNB()\n",
        "gnb.fit(X_train, y_train)\n",
        "\n",
        "# Make predictions on testing set\n",
        "y_pred = gnb.predict(X_test)\n",
        "\n",
        "# Calculate accuracy for the dataset values\n",
        "accuracy = accuracy_score(y_test, y_pred)\n",
        "print('Accuracy:', accuracy)"
      ],
      "metadata": {
        "colab": {
          "base_uri": "https://localhost:8080/"
        },
        "id": "5_cmm4UgwZ-V",
        "outputId": "db1b102e-f2e5-4b0e-dca5-da567caf7c0e"
      },
      "execution_count": 92,
      "outputs": [
        {
          "output_type": "stream",
          "name": "stdout",
          "text": [
            "Accuracy: 0.7611940298507462\n"
          ]
        },
        {
          "output_type": "stream",
          "name": "stderr",
          "text": [
            "<ipython-input-92-a0f5dec85aea>:12: SettingWithCopyWarning: \n",
            "A value is trying to be set on a copy of a slice from a DataFrame.\n",
            "Try using .loc[row_indexer,col_indexer] = value instead\n",
            "\n",
            "See the caveats in the documentation: https://pandas.pydata.org/pandas-docs/stable/user_guide/indexing.html#returning-a-view-versus-a-copy\n",
            "  X['Sex'] = X['Sex'].map({'male': 0, 'female': 1})  # Convert 'sex' to binary\n"
          ]
        }
      ]
    },
    {
      "cell_type": "code",
      "source": [
        "#Glass DataSet Classifier \n",
        "import pandas as pd\n",
        "from sklearn.model_selection import train_test_split\n",
        "from sklearn.naive_bayes import GaussianNB\n",
        "from sklearn.svm import LinearSVC\n",
        "from sklearn.metrics import classification_report\n",
        "\n",
        "# Load the glass dataset using pandas\n",
        "glass = pd.read_csv(\"/drive/MyDrive/glass.csv\")\n",
        "\n",
        "# Extract the features and target variable\n",
        "X = glass.drop(\"Type\", axis=1).values\n",
        "y = glass[\"Type\"].values\n",
        "\n",
        "# Split the data into training and testing sets\n",
        "X_train, X_test, y_train, y_test = train_test_split(X, y, test_size=0.2, random_state=7)\n",
        "\n",
        "# Create a Gaussian Naive Bayes classifier\n",
        "clf_nb = GaussianNB()\n",
        "\n",
        "# Train the classifier on the training data\n",
        "clf_nb.fit(X_train, y_train)\n",
        "\n",
        "# Predict the class labels for the testing data\n",
        "y_pred_nb = clf_nb.predict(X_test)\n",
        "\n",
        "# Evaluate the classifier's performance on the testing data\n",
        "score_nb = clf_nb.score(X_test, y_test)\n",
        "print(\"Naive Bayes Accuracy:\", score_nb)\n",
        "\n",
        "report_nb = classification_report(y_test, y_pred_nb)\n",
        "print(report_nb)\n"
      ],
      "metadata": {
        "colab": {
          "base_uri": "https://localhost:8080/"
        },
        "id": "Cd3IZzD_wxXw",
        "outputId": "7976aa01-4e39-4277-e344-111c950b047f"
      },
      "execution_count": null,
      "outputs": [
        {
          "output_type": "stream",
          "name": "stdout",
          "text": [
            "Naive Bayes Accuracy: 0.20930232558139536\n",
            "              precision    recall  f1-score   support\n",
            "\n",
            "           1       0.00      0.00      0.00        10\n",
            "           2       0.57      0.18      0.28        22\n",
            "           3       0.00      0.00      0.00         3\n",
            "           5       0.00      0.00      0.00         2\n",
            "           6       0.00      0.00      0.00         1\n",
            "           7       0.83      1.00      0.91         5\n",
            "\n",
            "    accuracy                           0.21        43\n",
            "   macro avg       0.23      0.20      0.20        43\n",
            "weighted avg       0.39      0.21      0.25        43\n",
            "\n"
          ]
        }
      ]
    },
    {
      "cell_type": "code",
      "source": [
        "\n",
        "# Create a linear SVM classifier\n",
        "clf_svm = LinearSVC()\n",
        "\n",
        "# Train the classifier on the training data\n",
        "clf_svm.fit(X_train, y_train)\n",
        "\n",
        "# Predict the class labels for the testing data\n",
        "y_pred_svm = clf_svm.predict(X_test)\n",
        "\n",
        "# Evaluate the classifier's performance on the testing data\n",
        "score_svm = clf_svm.score(X_test, y_test)\n",
        "print(\"Linear SVM Accuracy:\", score_svm)\n",
        "\n",
        "report_svm = classification_report(y_test, y_pred_svm)\n",
        "print(report_svm)"
      ],
      "metadata": {
        "colab": {
          "base_uri": "https://localhost:8080/"
        },
        "id": "JLxZFRb7y3qS",
        "outputId": "36a23bca-2ec2-4bd7-b57b-bb1d80a9f482"
      },
      "execution_count": null,
      "outputs": [
        {
          "output_type": "stream",
          "name": "stdout",
          "text": [
            "Linear SVM Accuracy: 0.13953488372093023\n",
            "              precision    recall  f1-score   support\n",
            "\n",
            "           1       0.00      0.00      0.00        10\n",
            "           2       0.00      0.00      0.00        22\n",
            "           3       0.08      1.00      0.15         3\n",
            "           5       0.00      0.00      0.00         2\n",
            "           6       0.00      0.00      0.00         1\n",
            "           7       0.75      0.60      0.67         5\n",
            "\n",
            "    accuracy                           0.14        43\n",
            "   macro avg       0.14      0.27      0.14        43\n",
            "weighted avg       0.09      0.14      0.09        43\n",
            "\n"
          ]
        },
        {
          "output_type": "stream",
          "name": "stderr",
          "text": [
            "/usr/local/lib/python3.9/dist-packages/sklearn/svm/_base.py:1244: ConvergenceWarning: Liblinear failed to converge, increase the number of iterations.\n",
            "  warnings.warn(\n",
            "/usr/local/lib/python3.9/dist-packages/sklearn/metrics/_classification.py:1344: UndefinedMetricWarning: Precision and F-score are ill-defined and being set to 0.0 in labels with no predicted samples. Use `zero_division` parameter to control this behavior.\n",
            "  _warn_prf(average, modifier, msg_start, len(result))\n",
            "/usr/local/lib/python3.9/dist-packages/sklearn/metrics/_classification.py:1344: UndefinedMetricWarning: Precision and F-score are ill-defined and being set to 0.0 in labels with no predicted samples. Use `zero_division` parameter to control this behavior.\n",
            "  _warn_prf(average, modifier, msg_start, len(result))\n",
            "/usr/local/lib/python3.9/dist-packages/sklearn/metrics/_classification.py:1344: UndefinedMetricWarning: Precision and F-score are ill-defined and being set to 0.0 in labels with no predicted samples. Use `zero_division` parameter to control this behavior.\n",
            "  _warn_prf(average, modifier, msg_start, len(result))\n"
          ]
        }
      ]
    },
    {
      "cell_type": "code",
      "source": [
        "# Doing the  two visualizations to describe or show correlations in the Glass Dataset. \n",
        "correlation_data = glass.corr()\n",
        "sns.heatmap(correlation_data,cmap='coolwarm')"
      ],
      "metadata": {
        "colab": {
          "base_uri": "https://localhost:8080/",
          "height": 452
        },
        "id": "2BpiaQVCAZq3",
        "outputId": "9ed1e8af-5c41-416b-c8ca-489b55f04dbc"
      },
      "execution_count": 93,
      "outputs": [
        {
          "output_type": "execute_result",
          "data": {
            "text/plain": [
              "<Axes: >"
            ]
          },
          "metadata": {},
          "execution_count": 93
        },
        {
          "output_type": "display_data",
          "data": {
            "text/plain": [
              "<Figure size 640x480 with 2 Axes>"
            ],
            "image/png": "[encoded data removed]"
          },
          "metadata": {}
        }
      ]
    },
    {
      "cell_type": "code",
      "source": [
        " #visualization 2\n",
        " glass.corr().style.background_gradient(cmap=\"Greens_r\")"
      ],
      "metadata": {
        "colab": {
          "base_uri": "https://localhost:8080/",
          "height": 363
        },
        "id": "m5eR9lH_BLVU",
        "outputId": "90c83236-57b4-4a9e-d4e5-42583b09c62c"
      },
      "execution_count": null,
      "outputs": [
        {
          "output_type": "execute_result",
          "data": {
            "text/plain": [
              "<pandas.io.formats.style.Styler at 0x7fecfb3440d0>"
            ],
            "text/html": [
              "<style type=\"text/css\">\n",
              "#T_6a966_row0_col0, #T_6a966_row1_col1, #T_6a966_row2_col2, #T_6a966_row3_col3, #T_6a966_row4_col4, #T_6a966_row5_col5, #T_6a966_row6_col6, #T_6a966_row7_col7, #T_6a966_row8_col8, #T_6a966_row9_col9 {\n",
              "  background-color: #f7fcf5;\n",
              "  color: #000000;\n",
              "}\n",
              "#T_6a966_row0_col1 {\n",
              "  background-color: #005924;\n",
              "  color: #f1f1f1;\n",
              "}\n",
              "#T_6a966_row0_col2 {\n",
              "  background-color: #3da65a;\n",
              "  color: #f1f1f1;\n",
              "}\n",
              "#T_6a966_row0_col3 {\n",
              "  background-color: #005321;\n",
              "  color: #f1f1f1;\n",
              "}\n",
              "#T_6a966_row0_col4, #T_6a966_row1_col8, #T_6a966_row2_col1, #T_6a966_row2_col3, #T_6a966_row2_col6, #T_6a966_row2_col7, #T_6a966_row2_col9, #T_6a966_row4_col0, #T_6a966_row6_col1, #T_6a966_row6_col5, #T_6a966_row9_col2 {\n",
              "  background-color: #00441b;\n",
              "  color: #f1f1f1;\n",
              "}\n",
              "#T_6a966_row0_col5 {\n",
              "  background-color: #004a1e;\n",
              "  color: #f1f1f1;\n",
              "}\n",
              "#T_6a966_row0_col6 {\n",
              "  background-color: #e4f5df;\n",
              "  color: #000000;\n",
              "}\n",
              "#T_6a966_row0_col7, #T_6a966_row4_col2 {\n",
              "  background-color: #369f54;\n",
              "  color: #f1f1f1;\n",
              "}\n",
              "#T_6a966_row0_col8 {\n",
              "  background-color: #319a50;\n",
              "  color: #f1f1f1;\n",
              "}\n",
              "#T_6a966_row0_col9 {\n",
              "  background-color: #37a055;\n",
              "  color: #f1f1f1;\n",
              "}\n",
              "#T_6a966_row1_col0, #T_6a966_row7_col6 {\n",
              "  background-color: #1d8640;\n",
              "  color: #f1f1f1;\n",
              "}\n",
              "#T_6a966_row1_col2, #T_6a966_row2_col0 {\n",
              "  background-color: #289049;\n",
              "  color: #f1f1f1;\n",
              "}\n",
              "#T_6a966_row1_col3, #T_6a966_row5_col2 {\n",
              "  background-color: #58b668;\n",
              "  color: #f1f1f1;\n",
              "}\n",
              "#T_6a966_row1_col4, #T_6a966_row9_col6 {\n",
              "  background-color: #309950;\n",
              "  color: #f1f1f1;\n",
              "}\n",
              "#T_6a966_row1_col5, #T_6a966_row9_col8 {\n",
              "  background-color: #005120;\n",
              "  color: #f1f1f1;\n",
              "}\n",
              "#T_6a966_row1_col6 {\n",
              "  background-color: #00692a;\n",
              "  color: #f1f1f1;\n",
              "}\n",
              "#T_6a966_row1_col7 {\n",
              "  background-color: #86cc85;\n",
              "  color: #000000;\n",
              "}\n",
              "#T_6a966_row1_col9, #T_6a966_row9_col7 {\n",
              "  background-color: #bde5b6;\n",
              "  color: #000000;\n",
              "}\n",
              "#T_6a966_row2_col4, #T_6a966_row2_col5, #T_6a966_row9_col0 {\n",
              "  background-color: #218944;\n",
              "  color: #f1f1f1;\n",
              "}\n",
              "#T_6a966_row2_col8, #T_6a966_row4_col7 {\n",
              "  background-color: #258d47;\n",
              "  color: #f1f1f1;\n",
              "}\n",
              "#T_6a966_row3_col0, #T_6a966_row5_col6 {\n",
              "  background-color: #006027;\n",
              "  color: #f1f1f1;\n",
              "}\n",
              "#T_6a966_row3_col1 {\n",
              "  background-color: #38a156;\n",
              "  color: #f1f1f1;\n",
              "}\n",
              "#T_6a966_row3_col2, #T_6a966_row6_col3 {\n",
              "  background-color: #077331;\n",
              "  color: #f1f1f1;\n",
              "}\n",
              "#T_6a966_row3_col4, #T_6a966_row7_col0 {\n",
              "  background-color: #3ba458;\n",
              "  color: #f1f1f1;\n",
              "}\n",
              "#T_6a966_row3_col5 {\n",
              "  background-color: #70c274;\n",
              "  color: #000000;\n",
              "}\n",
              "#T_6a966_row3_col6 {\n",
              "  background-color: #006d2c;\n",
              "  color: #f1f1f1;\n",
              "}\n",
              "#T_6a966_row3_col7, #T_6a966_row7_col3 {\n",
              "  background-color: #a9dca3;\n",
              "  color: #000000;\n",
              "}\n",
              "#T_6a966_row3_col8 {\n",
              "  background-color: #026f2e;\n",
              "  color: #f1f1f1;\n",
              "}\n",
              "#T_6a966_row3_col9 {\n",
              "  background-color: #ccebc6;\n",
              "  color: #000000;\n",
              "}\n",
              "#T_6a966_row4_col1, #T_6a966_row4_col6, #T_6a966_row5_col0 {\n",
              "  background-color: #0a7633;\n",
              "  color: #f1f1f1;\n",
              "}\n",
              "#T_6a966_row4_col3 {\n",
              "  background-color: #349d53;\n",
              "  color: #f1f1f1;\n",
              "}\n",
              "#T_6a966_row4_col5 {\n",
              "  background-color: #006328;\n",
              "  color: #f1f1f1;\n",
              "}\n",
              "#T_6a966_row4_col8 {\n",
              "  background-color: #006b2b;\n",
              "  color: #f1f1f1;\n",
              "}\n",
              "#T_6a966_row4_col9 {\n",
              "  background-color: #79c67a;\n",
              "  color: #000000;\n",
              "}\n",
              "#T_6a966_row5_col1 {\n",
              "  background-color: #00451c;\n",
              "  color: #f1f1f1;\n",
              "}\n",
              "#T_6a966_row5_col3 {\n",
              "  background-color: #84cc83;\n",
              "  color: #000000;\n",
              "}\n",
              "#T_6a966_row5_col4 {\n",
              "  background-color: #1c8540;\n",
              "  color: #f1f1f1;\n",
              "}\n",
              "#T_6a966_row5_col7 {\n",
              "  background-color: #2f984f;\n",
              "  color: #f1f1f1;\n",
              "}\n",
              "#T_6a966_row5_col8 {\n",
              "  background-color: #127c39;\n",
              "  color: #f1f1f1;\n",
              "}\n",
              "#T_6a966_row5_col9 {\n",
              "  background-color: #53b466;\n",
              "  color: #f1f1f1;\n",
              "}\n",
              "#T_6a966_row6_col0 {\n",
              "  background-color: #e5f5e1;\n",
              "  color: #000000;\n",
              "}\n",
              "#T_6a966_row6_col2 {\n",
              "  background-color: #0d7836;\n",
              "  color: #f1f1f1;\n",
              "}\n",
              "#T_6a966_row6_col4 {\n",
              "  background-color: #19833e;\n",
              "  color: #f1f1f1;\n",
              "}\n",
              "#T_6a966_row6_col7 {\n",
              "  background-color: #248c46;\n",
              "  color: #f1f1f1;\n",
              "}\n",
              "#T_6a966_row6_col8 {\n",
              "  background-color: #2e964d;\n",
              "  color: #f1f1f1;\n",
              "}\n",
              "#T_6a966_row6_col9 {\n",
              "  background-color: #56b567;\n",
              "  color: #f1f1f1;\n",
              "}\n",
              "#T_6a966_row7_col1 {\n",
              "  background-color: #68be70;\n",
              "  color: #000000;\n",
              "}\n",
              "#T_6a966_row7_col2, #T_6a966_row7_col8 {\n",
              "  background-color: #067230;\n",
              "  color: #f1f1f1;\n",
              "}\n",
              "#T_6a966_row7_col4 {\n",
              "  background-color: #2c944c;\n",
              "  color: #f1f1f1;\n",
              "}\n",
              "#T_6a966_row7_col5 {\n",
              "  background-color: #17813d;\n",
              "  color: #f1f1f1;\n",
              "}\n",
              "#T_6a966_row7_col9 {\n",
              "  background-color: #c9eac2;\n",
              "  color: #000000;\n",
              "}\n",
              "#T_6a966_row8_col0 {\n",
              "  background-color: #5db96b;\n",
              "  color: #f1f1f1;\n",
              "}\n",
              "#T_6a966_row8_col1 {\n",
              "  background-color: #004c1e;\n",
              "  color: #f1f1f1;\n",
              "}\n",
              "#T_6a966_row8_col2 {\n",
              "  background-color: #6abf71;\n",
              "  color: #000000;\n",
              "}\n",
              "#T_6a966_row8_col3 {\n",
              "  background-color: #29914a;\n",
              "  color: #f1f1f1;\n",
              "}\n",
              "#T_6a966_row8_col4, #T_6a966_row8_col7 {\n",
              "  background-color: #2d954d;\n",
              "  color: #f1f1f1;\n",
              "}\n",
              "#T_6a966_row8_col5 {\n",
              "  background-color: #1f8742;\n",
              "  color: #f1f1f1;\n",
              "}\n",
              "#T_6a966_row8_col6 {\n",
              "  background-color: #48ae60;\n",
              "  color: #f1f1f1;\n",
              "}\n",
              "#T_6a966_row8_col9 {\n",
              "  background-color: #339c52;\n",
              "  color: #f1f1f1;\n",
              "}\n",
              "#T_6a966_row9_col1 {\n",
              "  background-color: #9cd797;\n",
              "  color: #000000;\n",
              "}\n",
              "#T_6a966_row9_col3 {\n",
              "  background-color: #c1e6ba;\n",
              "  color: #000000;\n",
              "}\n",
              "#T_6a966_row9_col4 {\n",
              "  background-color: #60ba6c;\n",
              "  color: #f1f1f1;\n",
              "}\n",
              "#T_6a966_row9_col5 {\n",
              "  background-color: #1e8741;\n",
              "  color: #f1f1f1;\n",
              "}\n",
              "</style>\n",
              "<table id=\"T_6a966\" class=\"dataframe\">\n",
              "  <thead>\n",
              "    <tr>\n",
              "      <th class=\"blank level0\" >&nbsp;</th>\n",
              "      <th id=\"T_6a966_level0_col0\" class=\"col_heading level0 col0\" >RI</th>\n",
              "      <th id=\"T_6a966_level0_col1\" class=\"col_heading level0 col1\" >Na</th>\n",
              "      <th id=\"T_6a966_level0_col2\" class=\"col_heading level0 col2\" >Mg</th>\n",
              "      <th id=\"T_6a966_level0_col3\" class=\"col_heading level0 col3\" >Al</th>\n",
              "      <th id=\"T_6a966_level0_col4\" class=\"col_heading level0 col4\" >Si</th>\n",
              "      <th id=\"T_6a966_level0_col5\" class=\"col_heading level0 col5\" >K</th>\n",
              "      <th id=\"T_6a966_level0_col6\" class=\"col_heading level0 col6\" >Ca</th>\n",
              "      <th id=\"T_6a966_level0_col7\" class=\"col_heading level0 col7\" >Ba</th>\n",
              "      <th id=\"T_6a966_level0_col8\" class=\"col_heading level0 col8\" >Fe</th>\n",
              "      <th id=\"T_6a966_level0_col9\" class=\"col_heading level0 col9\" >Type</th>\n",
              "    </tr>\n",
              "  </thead>\n",
              "  <tbody>\n",
              "    <tr>\n",
              "      <th id=\"T_6a966_level0_row0\" class=\"row_heading level0 row0\" >RI</th>\n",
              "      <td id=\"T_6a966_row0_col0\" class=\"data row0 col0\" >1.000000</td>\n",
              "      <td id=\"T_6a966_row0_col1\" class=\"data row0 col1\" >-0.191885</td>\n",
              "      <td id=\"T_6a966_row0_col2\" class=\"data row0 col2\" >-0.122274</td>\n",
              "      <td id=\"T_6a966_row0_col3\" class=\"data row0 col3\" >-0.407326</td>\n",
              "      <td id=\"T_6a966_row0_col4\" class=\"data row0 col4\" >-0.542052</td>\n",
              "      <td id=\"T_6a966_row0_col5\" class=\"data row0 col5\" >-0.289833</td>\n",
              "      <td id=\"T_6a966_row0_col6\" class=\"data row0 col6\" >0.810403</td>\n",
              "      <td id=\"T_6a966_row0_col7\" class=\"data row0 col7\" >-0.000386</td>\n",
              "      <td id=\"T_6a966_row0_col8\" class=\"data row0 col8\" >0.143010</td>\n",
              "      <td id=\"T_6a966_row0_col9\" class=\"data row0 col9\" >-0.164237</td>\n",
              "    </tr>\n",
              "    <tr>\n",
              "      <th id=\"T_6a966_level0_row1\" class=\"row_heading level0 row1\" >Na</th>\n",
              "      <td id=\"T_6a966_row1_col0\" class=\"data row1 col0\" >-0.191885</td>\n",
              "      <td id=\"T_6a966_row1_col1\" class=\"data row1 col1\" >1.000000</td>\n",
              "      <td id=\"T_6a966_row1_col2\" class=\"data row1 col2\" >-0.273732</td>\n",
              "      <td id=\"T_6a966_row1_col3\" class=\"data row1 col3\" >0.156794</td>\n",
              "      <td id=\"T_6a966_row1_col4\" class=\"data row1 col4\" >-0.069809</td>\n",
              "      <td id=\"T_6a966_row1_col5\" class=\"data row1 col5\" >-0.266087</td>\n",
              "      <td id=\"T_6a966_row1_col6\" class=\"data row1 col6\" >-0.275442</td>\n",
              "      <td id=\"T_6a966_row1_col7\" class=\"data row1 col7\" >0.326603</td>\n",
              "      <td id=\"T_6a966_row1_col8\" class=\"data row1 col8\" >-0.241346</td>\n",
              "      <td id=\"T_6a966_row1_col9\" class=\"data row1 col9\" >0.502898</td>\n",
              "    </tr>\n",
              "    <tr>\n",
              "      <th id=\"T_6a966_level0_row2\" class=\"row_heading level0 row2\" >Mg</th>\n",
              "      <td id=\"T_6a966_row2_col0\" class=\"data row2 col0\" >-0.122274</td>\n",
              "      <td id=\"T_6a966_row2_col1\" class=\"data row2 col1\" >-0.273732</td>\n",
              "      <td id=\"T_6a966_row2_col2\" class=\"data row2 col2\" >1.000000</td>\n",
              "      <td id=\"T_6a966_row2_col3\" class=\"data row2 col3\" >-0.481799</td>\n",
              "      <td id=\"T_6a966_row2_col4\" class=\"data row2 col4\" >-0.165927</td>\n",
              "      <td id=\"T_6a966_row2_col5\" class=\"data row2 col5\" >0.005396</td>\n",
              "      <td id=\"T_6a966_row2_col6\" class=\"data row2 col6\" >-0.443750</td>\n",
              "      <td id=\"T_6a966_row2_col7\" class=\"data row2 col7\" >-0.492262</td>\n",
              "      <td id=\"T_6a966_row2_col8\" class=\"data row2 col8\" >0.083060</td>\n",
              "      <td id=\"T_6a966_row2_col9\" class=\"data row2 col9\" >-0.744993</td>\n",
              "    </tr>\n",
              "    <tr>\n",
              "      <th id=\"T_6a966_level0_row3\" class=\"row_heading level0 row3\" >Al</th>\n",
              "      <td id=\"T_6a966_row3_col0\" class=\"data row3 col0\" >-0.407326</td>\n",
              "      <td id=\"T_6a966_row3_col1\" class=\"data row3 col1\" >0.156794</td>\n",
              "      <td id=\"T_6a966_row3_col2\" class=\"data row3 col2\" >-0.481799</td>\n",
              "      <td id=\"T_6a966_row3_col3\" class=\"data row3 col3\" >1.000000</td>\n",
              "      <td id=\"T_6a966_row3_col4\" class=\"data row3 col4\" >-0.005524</td>\n",
              "      <td id=\"T_6a966_row3_col5\" class=\"data row3 col5\" >0.325958</td>\n",
              "      <td id=\"T_6a966_row3_col6\" class=\"data row3 col6\" >-0.259592</td>\n",
              "      <td id=\"T_6a966_row3_col7\" class=\"data row3 col7\" >0.479404</td>\n",
              "      <td id=\"T_6a966_row3_col8\" class=\"data row3 col8\" >-0.074402</td>\n",
              "      <td id=\"T_6a966_row3_col9\" class=\"data row3 col9\" >0.598829</td>\n",
              "    </tr>\n",
              "    <tr>\n",
              "      <th id=\"T_6a966_level0_row4\" class=\"row_heading level0 row4\" >Si</th>\n",
              "      <td id=\"T_6a966_row4_col0\" class=\"data row4 col0\" >-0.542052</td>\n",
              "      <td id=\"T_6a966_row4_col1\" class=\"data row4 col1\" >-0.069809</td>\n",
              "      <td id=\"T_6a966_row4_col2\" class=\"data row4 col2\" >-0.165927</td>\n",
              "      <td id=\"T_6a966_row4_col3\" class=\"data row4 col3\" >-0.005524</td>\n",
              "      <td id=\"T_6a966_row4_col4\" class=\"data row4 col4\" >1.000000</td>\n",
              "      <td id=\"T_6a966_row4_col5\" class=\"data row4 col5\" >-0.193331</td>\n",
              "      <td id=\"T_6a966_row4_col6\" class=\"data row4 col6\" >-0.208732</td>\n",
              "      <td id=\"T_6a966_row4_col7\" class=\"data row4 col7\" >-0.102151</td>\n",
              "      <td id=\"T_6a966_row4_col8\" class=\"data row4 col8\" >-0.094201</td>\n",
              "      <td id=\"T_6a966_row4_col9\" class=\"data row4 col9\" >0.151565</td>\n",
              "    </tr>\n",
              "    <tr>\n",
              "      <th id=\"T_6a966_level0_row5\" class=\"row_heading level0 row5\" >K</th>\n",
              "      <td id=\"T_6a966_row5_col0\" class=\"data row5 col0\" >-0.289833</td>\n",
              "      <td id=\"T_6a966_row5_col1\" class=\"data row5 col1\" >-0.266087</td>\n",
              "      <td id=\"T_6a966_row5_col2\" class=\"data row5 col2\" >0.005396</td>\n",
              "      <td id=\"T_6a966_row5_col3\" class=\"data row5 col3\" >0.325958</td>\n",
              "      <td id=\"T_6a966_row5_col4\" class=\"data row5 col4\" >-0.193331</td>\n",
              "      <td id=\"T_6a966_row5_col5\" class=\"data row5 col5\" >1.000000</td>\n",
              "      <td id=\"T_6a966_row5_col6\" class=\"data row5 col6\" >-0.317836</td>\n",
              "      <td id=\"T_6a966_row5_col7\" class=\"data row5 col7\" >-0.042618</td>\n",
              "      <td id=\"T_6a966_row5_col8\" class=\"data row5 col8\" >-0.007719</td>\n",
              "      <td id=\"T_6a966_row5_col9\" class=\"data row5 col9\" >-0.010054</td>\n",
              "    </tr>\n",
              "    <tr>\n",
              "      <th id=\"T_6a966_level0_row6\" class=\"row_heading level0 row6\" >Ca</th>\n",
              "      <td id=\"T_6a966_row6_col0\" class=\"data row6 col0\" >0.810403</td>\n",
              "      <td id=\"T_6a966_row6_col1\" class=\"data row6 col1\" >-0.275442</td>\n",
              "      <td id=\"T_6a966_row6_col2\" class=\"data row6 col2\" >-0.443750</td>\n",
              "      <td id=\"T_6a966_row6_col3\" class=\"data row6 col3\" >-0.259592</td>\n",
              "      <td id=\"T_6a966_row6_col4\" class=\"data row6 col4\" >-0.208732</td>\n",
              "      <td id=\"T_6a966_row6_col5\" class=\"data row6 col5\" >-0.317836</td>\n",
              "      <td id=\"T_6a966_row6_col6\" class=\"data row6 col6\" >1.000000</td>\n",
              "      <td id=\"T_6a966_row6_col7\" class=\"data row6 col7\" >-0.112841</td>\n",
              "      <td id=\"T_6a966_row6_col8\" class=\"data row6 col8\" >0.124968</td>\n",
              "      <td id=\"T_6a966_row6_col9\" class=\"data row6 col9\" >0.000952</td>\n",
              "    </tr>\n",
              "    <tr>\n",
              "      <th id=\"T_6a966_level0_row7\" class=\"row_heading level0 row7\" >Ba</th>\n",
              "      <td id=\"T_6a966_row7_col0\" class=\"data row7 col0\" >-0.000386</td>\n",
              "      <td id=\"T_6a966_row7_col1\" class=\"data row7 col1\" >0.326603</td>\n",
              "      <td id=\"T_6a966_row7_col2\" class=\"data row7 col2\" >-0.492262</td>\n",
              "      <td id=\"T_6a966_row7_col3\" class=\"data row7 col3\" >0.479404</td>\n",
              "      <td id=\"T_6a966_row7_col4\" class=\"data row7 col4\" >-0.102151</td>\n",
              "      <td id=\"T_6a966_row7_col5\" class=\"data row7 col5\" >-0.042618</td>\n",
              "      <td id=\"T_6a966_row7_col6\" class=\"data row7 col6\" >-0.112841</td>\n",
              "      <td id=\"T_6a966_row7_col7\" class=\"data row7 col7\" >1.000000</td>\n",
              "      <td id=\"T_6a966_row7_col8\" class=\"data row7 col8\" >-0.058692</td>\n",
              "      <td id=\"T_6a966_row7_col9\" class=\"data row7 col9\" >0.575161</td>\n",
              "    </tr>\n",
              "    <tr>\n",
              "      <th id=\"T_6a966_level0_row8\" class=\"row_heading level0 row8\" >Fe</th>\n",
              "      <td id=\"T_6a966_row8_col0\" class=\"data row8 col0\" >0.143010</td>\n",
              "      <td id=\"T_6a966_row8_col1\" class=\"data row8 col1\" >-0.241346</td>\n",
              "      <td id=\"T_6a966_row8_col2\" class=\"data row8 col2\" >0.083060</td>\n",
              "      <td id=\"T_6a966_row8_col3\" class=\"data row8 col3\" >-0.074402</td>\n",
              "      <td id=\"T_6a966_row8_col4\" class=\"data row8 col4\" >-0.094201</td>\n",
              "      <td id=\"T_6a966_row8_col5\" class=\"data row8 col5\" >-0.007719</td>\n",
              "      <td id=\"T_6a966_row8_col6\" class=\"data row8 col6\" >0.124968</td>\n",
              "      <td id=\"T_6a966_row8_col7\" class=\"data row8 col7\" >-0.058692</td>\n",
              "      <td id=\"T_6a966_row8_col8\" class=\"data row8 col8\" >1.000000</td>\n",
              "      <td id=\"T_6a966_row8_col9\" class=\"data row8 col9\" >-0.188278</td>\n",
              "    </tr>\n",
              "    <tr>\n",
              "      <th id=\"T_6a966_level0_row9\" class=\"row_heading level0 row9\" >Type</th>\n",
              "      <td id=\"T_6a966_row9_col0\" class=\"data row9 col0\" >-0.164237</td>\n",
              "      <td id=\"T_6a966_row9_col1\" class=\"data row9 col1\" >0.502898</td>\n",
              "      <td id=\"T_6a966_row9_col2\" class=\"data row9 col2\" >-0.744993</td>\n",
              "      <td id=\"T_6a966_row9_col3\" class=\"data row9 col3\" >0.598829</td>\n",
              "      <td id=\"T_6a966_row9_col4\" class=\"data row9 col4\" >0.151565</td>\n",
              "      <td id=\"T_6a966_row9_col5\" class=\"data row9 col5\" >-0.010054</td>\n",
              "      <td id=\"T_6a966_row9_col6\" class=\"data row9 col6\" >0.000952</td>\n",
              "      <td id=\"T_6a966_row9_col7\" class=\"data row9 col7\" >0.575161</td>\n",
              "      <td id=\"T_6a966_row9_col8\" class=\"data row9 col8\" >-0.188278</td>\n",
              "      <td id=\"T_6a966_row9_col9\" class=\"data row9 col9\" >1.000000</td>\n",
              "    </tr>\n",
              "  </tbody>\n",
              "</table>\n"
            ]
          },
          "metadata": {},
          "execution_count": 88
        }
      ]
    },
    {
      "cell_type": "code",
      "source": [],
      "metadata": {
        "id": "jns3HW8XBfWP"
      },
      "execution_count": null,
      "outputs": []
    }
  ]
}